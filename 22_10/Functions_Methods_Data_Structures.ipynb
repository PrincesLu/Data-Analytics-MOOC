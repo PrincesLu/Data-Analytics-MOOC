{
 "cells": [
  {
   "cell_type": "code",
   "execution_count": 2,
   "id": "022746b9",
   "metadata": {},
   "outputs": [
    {
     "data": {
      "text/plain": [
       "'what     are you taking about my friend'"
      ]
     },
     "execution_count": 2,
     "metadata": {},
     "output_type": "execute_result"
    }
   ],
   "source": [
    "a = \"   what     are you taking about my friend    \"\n",
    "b = a.strip()\n",
    "b"
   ]
  },
  {
   "cell_type": "code",
   "execution_count": 6,
   "id": "343749d7",
   "metadata": {},
   "outputs": [
    {
     "data": {
      "text/plain": [
       "('WHAT IS YOUR NAME', 'what is your name my fried')"
      ]
     },
     "execution_count": 6,
     "metadata": {},
     "output_type": "execute_result"
    }
   ],
   "source": [
    "a = \"what is your name\".upper()\n",
    "b = \"What is YOUR Name my Fried\".lower()\n",
    "a, b"
   ]
  },
  {
   "cell_type": "code",
   "execution_count": 7,
   "id": "d6408388",
   "metadata": {},
   "outputs": [
    {
     "data": {
      "text/plain": [
       "\"ABc, that doesn't make any sense, really!, \""
      ]
     },
     "execution_count": 7,
     "metadata": {},
     "output_type": "execute_result"
    }
   ],
   "source": [
    "d = \"ABc; that doesn't make any sense, really!; \".replace(\";\", \",\")\n",
    "d"
   ]
  },
  {
   "cell_type": "code",
   "execution_count": 12,
   "id": "4e5ab2bb",
   "metadata": {},
   "outputs": [],
   "source": [
    "L = \"game, and, no\".split(\",\")\n",
    "L[0]"
   ]
  },
  {
   "cell_type": "markdown",
   "id": "4862a933",
   "metadata": {},
   "source": [
    "# IN and NOT IN - Membership Operators\n"
   ]
  },
  {
   "cell_type": "code",
   "execution_count": 14,
   "id": "c2a70871",
   "metadata": {},
   "outputs": [
    {
     "data": {
      "text/plain": [
       "False"
      ]
     },
     "execution_count": 14,
     "metadata": {},
     "output_type": "execute_result"
    }
   ],
   "source": [
    "\"abc\" in \"asdfaablalala\""
   ]
  },
  {
   "cell_type": "code",
   "execution_count": 18,
   "id": "7cd8c62c",
   "metadata": {
    "scrolled": true
   },
   "outputs": [
    {
     "data": {
      "text/plain": [
       "False"
      ]
     },
     "execution_count": 18,
     "metadata": {},
     "output_type": "execute_result"
    }
   ],
   "source": [
    "\"abc\" > \"abcd\""
   ]
  },
  {
   "cell_type": "code",
   "execution_count": 21,
   "id": "a665da63",
   "metadata": {},
   "outputs": [
    {
     "data": {
      "text/plain": [
       "True"
      ]
     },
     "execution_count": 21,
     "metadata": {},
     "output_type": "execute_result"
    }
   ],
   "source": [
    "\"Marta Montis\" not in \"Larisa Abigail, Francis Marta , Montis Croline\""
   ]
  },
  {
   "cell_type": "markdown",
   "id": "d8744ff8",
   "metadata": {},
   "source": [
    "# Escape Corrector"
   ]
  },
  {
   "cell_type": "code",
   "execution_count": 22,
   "id": "497efd18",
   "metadata": {},
   "outputs": [
    {
     "name": "stdout",
     "output_type": "stream",
     "text": [
      "My nickname is \"simi\" and I am not \n"
     ]
    }
   ],
   "source": [
    "print(\"My nickname is \\\"simi\\\" and I am not \")"
   ]
  },
  {
   "cell_type": "code",
   "execution_count": 23,
   "id": "4c3ea991",
   "metadata": {},
   "outputs": [
    {
     "name": "stdout",
     "output_type": "stream",
     "text": [
      "we \tare learning Python\n"
     ]
    }
   ],
   "source": [
    "print(\"we \\tare learning Python\")"
   ]
  },
  {
   "cell_type": "code",
   "execution_count": 25,
   "id": "b38d50b3",
   "metadata": {},
   "outputs": [
    {
     "name": "stdout",
     "output_type": "stream",
     "text": [
      "we are learning \n",
      "Python and we like it\n"
     ]
    }
   ],
   "source": [
    "print(\"we are learning \\nPython and we like it\")"
   ]
  },
  {
   "cell_type": "code",
   "execution_count": 26,
   "id": "52bea2e3",
   "metadata": {},
   "outputs": [
    {
     "name": "stdout",
     "output_type": "stream",
     "text": [
      "c:\\name\\drive\n"
     ]
    }
   ],
   "source": [
    "print(r\"c:\\name\\drive\")"
   ]
  },
  {
   "cell_type": "markdown",
   "id": "1b24c573",
   "metadata": {},
   "source": [
    "\n",
    "# Data Structures"
   ]
  },
  {
   "cell_type": "code",
   "execution_count": 28,
   "id": "b094d5ba",
   "metadata": {},
   "outputs": [],
   "source": [
    "L = [1, 3, 4.9, \"name\",3 ]\n",
    "T = (1,3, 4.9, \"name\", 3)\n",
    "S = {1, 3, 4.9, \"name\", 3}\n",
    "D = {23: \"twothree\", 'B': 43, 'C': 'CCD'}\n"
   ]
  },
  {
   "cell_type": "code",
   "execution_count": 41,
   "id": "f66e9611",
   "metadata": {},
   "outputs": [
    {
     "name": "stdout",
     "output_type": "stream",
     "text": [
      "[1, 3, 4.9, 'name', 3]\n",
      "(1, 3, 4.9, 'name', 3)\n",
      "{1, 3, 4.9, 'name'}\n",
      "{23: 'twothree', 'B': 43, 'C': 'CCD'}\n"
     ]
    }
   ],
   "source": [
    "print(L) \n",
    "print(T) \n",
    "print(S)\n",
    "print(D)"
   ]
  },
  {
   "cell_type": "code",
   "execution_count": 30,
   "id": "daa536f4",
   "metadata": {},
   "outputs": [
    {
     "name": "stdout",
     "output_type": "stream",
     "text": [
      "The type of L is:  <class 'list'>\n",
      "The type of T is:  <class 'tuple'>\n",
      "The type of S is:  <class 'set'>\n",
      "The type of D is:  <class 'dict'>\n"
     ]
    }
   ],
   "source": [
    "print(\"The type of L is: \", type(L))\n",
    "print(\"The type of T is: \", type(T))\n",
    "print(\"The type of S is: \", type(S))\n",
    "print(\"The type of D is: \", type(D))"
   ]
  },
  {
   "cell_type": "code",
   "execution_count": 31,
   "id": "5f9bb27e",
   "metadata": {},
   "outputs": [
    {
     "name": "stdout",
     "output_type": "stream",
     "text": [
      "3\n",
      "3\n",
      "True\n",
      "twothree\n"
     ]
    }
   ],
   "source": [
    "print(L[1])\n",
    "print(T[1])\n",
    "print(3 in S)\n",
    "print(D[23])"
   ]
  },
  {
   "cell_type": "code",
   "execution_count": 43,
   "id": "4c73330d",
   "metadata": {},
   "outputs": [
    {
     "data": {
      "text/plain": [
       "[1, 3, 4.9, 'name', 3, 'how', 'are', 6, 'you', 'how', 'are', 6, 'you']"
      ]
     },
     "execution_count": 43,
     "metadata": {},
     "output_type": "execute_result"
    }
   ],
   "source": [
    "L = L + [\"how\", \"are\", 6, \"you\"]\n",
    "L"
   ]
  },
  {
   "cell_type": "code",
   "execution_count": 49,
   "id": "d019c2b0",
   "metadata": {},
   "outputs": [
    {
     "data": {
      "text/plain": [
       "(1, 3, 4.9, 'name', 3, 'a', 'b', 45)"
      ]
     },
     "execution_count": 49,
     "metadata": {},
     "output_type": "execute_result"
    }
   ],
   "source": [
    "T2 = (\"a\", \"b\", 45) #its immutable, you can add anything inside but add more\n",
    "T3 = T + T2\n",
    "T3"
   ]
  },
  {
   "cell_type": "code",
   "execution_count": 51,
   "id": "2ed6f22a",
   "metadata": {},
   "outputs": [
    {
     "data": {
      "text/plain": [
       "{1, 3, 4.9, 56, 'name'}"
      ]
     },
     "execution_count": 51,
     "metadata": {},
     "output_type": "execute_result"
    }
   ],
   "source": [
    "S.add(56)\n",
    "S"
   ]
  },
  {
   "cell_type": "code",
   "execution_count": 58,
   "id": "37839805",
   "metadata": {},
   "outputs": [
    {
     "data": {
      "text/plain": [
       "[1, 3, 4.9, 'how', 'are', 6, 'you', 'how', 'are', 6, 'you', 6.5, 6.5, 6.5]"
      ]
     },
     "execution_count": 58,
     "metadata": {},
     "output_type": "execute_result"
    }
   ],
   "source": [
    "L\n",
    "#REMOVE ELEMENT\n",
    "del L[3]\n",
    "L"
   ]
  },
  {
   "cell_type": "code",
   "execution_count": null,
   "id": "e9cfbe93",
   "metadata": {},
   "outputs": [],
   "source": [
    "S.REMOVE   "
   ]
  },
  {
   "cell_type": "code",
   "execution_count": 53,
   "id": "f249d4ec",
   "metadata": {},
   "outputs": [
    {
     "data": {
      "text/plain": [
       "{1, 23, 3, 4.9, 56, 'game', 'name'}"
      ]
     },
     "execution_count": 53,
     "metadata": {},
     "output_type": "execute_result"
    }
   ],
   "source": [
    "S.update({23, \"game\", 1})\n",
    "S"
   ]
  },
  {
   "cell_type": "code",
   "execution_count": 59,
   "id": "60913657",
   "metadata": {},
   "outputs": [],
   "source": [
    "D.update(D2)"
   ]
  },
  {
   "cell_type": "code",
   "execution_count": 64,
   "id": "285eb06b",
   "metadata": {},
   "outputs": [
    {
     "data": {
      "text/plain": [
       "([1, 3, 'four', 'how', 'are', 6, 'you', 'how', 'are', 6, 'you', 6.5, 6.5, 6.5],\n",
       " [1, 3, 'four', 'how', 'are', 6, 'you', 'how', 'are', 6, 'you', 6.5, 6.5, 6.5])"
      ]
     },
     "execution_count": 64,
     "metadata": {},
     "output_type": "execute_result"
    }
   ],
   "source": [
    "L2 = L\n",
    "L2[2] = \"four\"\n",
    "L2, L"
   ]
  },
  {
   "cell_type": "code",
   "execution_count": 65,
   "id": "31f441cf",
   "metadata": {},
   "outputs": [],
   "source": [
    "L2 = L.copy()"
   ]
  },
  {
   "cell_type": "code",
   "execution_count": 69,
   "id": "632deedf",
   "metadata": {},
   "outputs": [
    {
     "data": {
      "text/plain": [
       "([1, 3, 4.9, 'how', 'are', 6, 'you', 'how', 'are', 6, 'you', 6.5, 6.5, 6.5],\n",
       " [1, 3, 'four', 'how', 'are', 6, 'you', 'how', 'are', 6, 'you', 6.5, 6.5, 6.5])"
      ]
     },
     "execution_count": 69,
     "metadata": {},
     "output_type": "execute_result"
    }
   ],
   "source": [
    "L2[2] = 4.9\n",
    "L2, L"
   ]
  },
  {
   "cell_type": "code",
   "execution_count": null,
   "id": "5f0ff7fa",
   "metadata": {},
   "outputs": [],
   "source": [
    "L3 = [x**2 for x in range(10)]"
   ]
  },
  {
   "cell_type": "code",
   "execution_count": 1,
   "id": "b5ad35fb",
   "metadata": {},
   "outputs": [],
   "source": [
    "\"\"\" A teacher has diffrent student records containing ID of Student\n",
    "and the marks list in each subject where diffrent students have \n",
    "taken diffrent number of subjects. All this records are hard copies\n",
    ", it has to get all the data in the computer and want to compute the \n",
    "average mark of each studenta displayed \"\"\"\n",
    "\n",
    "def getDataFromUser():\n",
    "    D = {}\n",
    "    while True:\n",
    "        studentId = input(\"Enter student ID: \")\n",
    "        marksList = input (\"Enter the marks by comma separated values: \")\n",
    "        moreStudents = input('Enter \"no\" to quit insertion :')\n",
    "        if studentId in D:\n",
    "            print(studentId, \" is already inserted\")\n",
    "        else:\n",
    "            D[studentId] = marksList.split(\",\")\n",
    "        if moreStudents.lower() == \"no\":\n",
    "            return D       \n",
    "        "
   ]
  },
  {
   "cell_type": "code",
   "execution_count": 2,
   "id": "4cdfc707",
   "metadata": {},
   "outputs": [
    {
     "name": "stdout",
     "output_type": "stream",
     "text": [
      "Enter student ID: 12\n",
      "Enter the marks by comma separated values: 24, 65, 87\n",
      "Enter \"no\" to quit insertion :asf\n",
      "Enter student ID: 45\n",
      "Enter the marks by comma separated values: 44, 55, 66, 774\n",
      "Enter \"no\" to quit insertion :asd\n",
      "Enter student ID: 12\n",
      "Enter the marks by comma separated values: 45, 45\n",
      "Enter \"no\" to quit insertion :asdt\n",
      "12  is already inserted\n",
      "Enter student ID: 23\n",
      "Enter the marks by comma separated values: 45, 45\n",
      "Enter \"no\" to quit insertion :no\n"
     ]
    }
   ],
   "source": [
    "studentData = getDataFromUser()"
   ]
  },
  {
   "cell_type": "code",
   "execution_count": 3,
   "id": "fd8131ac",
   "metadata": {},
   "outputs": [
    {
     "data": {
      "text/plain": [
       "{'12': ['24', ' 65', ' 87'],\n",
       " '45': ['44', ' 55', ' 66', ' 774'],\n",
       " '23': ['45', ' 45']}"
      ]
     },
     "execution_count": 3,
     "metadata": {},
     "output_type": "execute_result"
    }
   ],
   "source": [
    "studentData"
   ]
  },
  {
   "cell_type": "code",
   "execution_count": 8,
   "id": "26a5e6fa",
   "metadata": {},
   "outputs": [],
   "source": [
    "def getAvgMarks(D):\n",
    "    avgMarks = {}\n",
    "    for x in D:\n",
    "        L = D[x]\n",
    "        s =0 \n",
    "        for marks in L:\n",
    "            s += int(marks)\n",
    "        avgMarks[x] = s/len(L)\n",
    "    return avgMarks"
   ]
  },
  {
   "cell_type": "code",
   "execution_count": null,
   "id": "487745d6",
   "metadata": {},
   "outputs": [],
   "source": [
    "avgM = getAvgMarks(studentData)"
   ]
  },
  {
   "cell_type": "code",
   "execution_count": 9,
   "id": "fc6fc431",
   "metadata": {},
   "outputs": [
    {
     "name": "stdout",
     "output_type": "stream",
     "text": [
      "Student:  12 got avg Marks as:  58.666666666666664\n",
      "Student:  45 got avg Marks as:  234.75\n",
      "Student:  23 got avg Marks as:  45.0\n"
     ]
    }
   ],
   "source": [
    "for x in avgM:\n",
    "    print(\"Student: \", x, \"got avg Marks as: \", avgM[x])"
   ]
  },
  {
   "cell_type": "code",
   "execution_count": null,
   "id": "2f397d27",
   "metadata": {},
   "outputs": [],
   "source": []
  },
  {
   "cell_type": "code",
   "execution_count": null,
   "id": "dbfe9ab0",
   "metadata": {},
   "outputs": [],
   "source": []
  },
  {
   "cell_type": "code",
   "execution_count": null,
   "id": "757fe98a",
   "metadata": {},
   "outputs": [],
   "source": []
  },
  {
   "cell_type": "code",
   "execution_count": null,
   "id": "74d31149",
   "metadata": {},
   "outputs": [],
   "source": []
  }
 ],
 "metadata": {
  "kernelspec": {
   "display_name": "Python 3 (ipykernel)",
   "language": "python",
   "name": "python3"
  },
  "language_info": {
   "codemirror_mode": {
    "name": "ipython",
    "version": 3
   },
   "file_extension": ".py",
   "mimetype": "text/x-python",
   "name": "python",
   "nbconvert_exporter": "python",
   "pygments_lexer": "ipython3",
   "version": "3.9.7"
  }
 },
 "nbformat": 4,
 "nbformat_minor": 5
}
