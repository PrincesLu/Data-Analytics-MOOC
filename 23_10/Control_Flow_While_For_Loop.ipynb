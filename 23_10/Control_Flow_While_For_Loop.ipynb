{
 "cells": [
  {
   "cell_type": "markdown",
   "id": "97934fa6",
   "metadata": {},
   "source": [
    "# if/else control flow"
   ]
  },
  {
   "cell_type": "code",
   "execution_count": 2,
   "id": "5112b7cb",
   "metadata": {},
   "outputs": [
    {
     "name": "stdout",
     "output_type": "stream",
     "text": [
      "Enter a real number: 87.3\n",
      "Odd\n"
     ]
    }
   ],
   "source": [
    "\"\"\"\n",
    "User will enter a floating point number let say 238.915. Your task\n",
    "is to find out the interger portion before the point in this case\n",
    "238 and then check if that integer portion is an even number or not?\n",
    "\"\"\"\n",
    "\n",
    "x = float(input(\"Enter a real number: \"))\n",
    "y = round(x) \n",
    "if x > 0: \n",
    "    if y > x:\n",
    "        intPortion = y - 1\n",
    "    else:\n",
    "        intPortin = y \n",
    "else:\n",
    "    if y < x:\n",
    "        intPortion = y + 1\n",
    "    else:\n",
    "        intPortion = y \n",
    "if intPortion % 2 == 0:\n",
    "    print(\"Even\")\n",
    "else:\n",
    "    print(\"Odd\")"
   ]
  },
  {
   "cell_type": "markdown",
   "id": "bfaa27fe",
   "metadata": {},
   "source": [
    "# Control Flow - WHILE Loops\n"
   ]
  },
  {
   "cell_type": "code",
   "execution_count": 15,
   "id": "fd0db0a9",
   "metadata": {},
   "outputs": [
    {
     "name": "stdout",
     "output_type": "stream",
     "text": [
      " Max interations: 5\n",
      "1\n",
      "This is the iteration number:  1\n",
      "4\n",
      "This is the iteration number:  2\n",
      "9\n",
      "This is the iteration number:  3\n",
      "16\n",
      "This is the iteration number:  4\n",
      "done\n"
     ]
    }
   ],
   "source": [
    "n = int(input(\" Max interations: \"))\n",
    "i = 1 \n",
    "while i < n:\n",
    "    print(i**2)\n",
    "    print(\"This is the iteration number: \", i)\n",
    "    i +=1 # i = i + 1\n",
    "print('done')"
   ]
  },
  {
   "cell_type": "code",
   "execution_count": 17,
   "id": "e7a0c1b8",
   "metadata": {},
   "outputs": [
    {
     "name": "stdout",
     "output_type": "stream",
     "text": [
      "Max interations:3\n",
      "2\n",
      "done\n"
     ]
    }
   ],
   "source": [
    "n = int(input('Max interations:'))\n",
    "i = 1 \n",
    "while i < n :\n",
    "    if i % 2 == 0:\n",
    "        print(i)\n",
    "    else:\n",
    "        pass # do nothing \n",
    "    i +=1\n",
    "print(\"done\")"
   ]
  },
  {
   "cell_type": "code",
   "execution_count": 22,
   "id": "80273502",
   "metadata": {},
   "outputs": [
    {
     "name": "stdout",
     "output_type": "stream",
     "text": [
      "inside Else 1\n",
      "inside Else 2\n",
      "inside Else 3\n",
      "inside Else 4\n",
      "inside Else 5\n",
      "inside Else 6\n",
      "inside Else 7\n",
      "inside Else 8\n",
      "Inside if\n",
      "done\n"
     ]
    }
   ],
   "source": [
    "n = 10 \n",
    "i = 1 \n",
    "while True:\n",
    "    if i % 9 == 0:\n",
    "        print(\"Inside if\")\n",
    "        break\n",
    "    else:\n",
    "        print(\"inside Else\", i)\n",
    "        i += 1\n",
    "print (\"done\")"
   ]
  },
  {
   "cell_type": "code",
   "execution_count": 2,
   "id": "8cdef888",
   "metadata": {},
   "outputs": [
    {
     "name": "stdout",
     "output_type": "stream",
     "text": [
      "inside Else 1\n",
      "inside Else 2\n",
      "inside Else 3\n",
      "inside Else 4\n",
      "inside Else 5\n",
      "inside Else 6\n",
      "inside Else 7\n",
      "inside Else 8\n",
      "Inside if\n",
      "done\n"
     ]
    }
   ],
   "source": [
    "n = 10 \n",
    "i =  1\n",
    "while True:\n",
    "    if i % 9 == 0:\n",
    "        print(\"Inside if\")\n",
    "        break\n",
    "    else:\n",
    "        print(\"inside Else\", i)\n",
    "        i += 1\n",
    "print (\"done\")"
   ]
  },
  {
   "cell_type": "markdown",
   "id": "5c2f9f53",
   "metadata": {},
   "source": [
    "# Control Flow - FOR Loop"
   ]
  },
  {
   "cell_type": "code",
   "execution_count": 57,
   "id": "4d450894",
   "metadata": {},
   "outputs": [
    {
     "name": "stdout",
     "output_type": "stream",
     "text": [
      "[-5, 1, 2, 2, 3, 4, 7, 9]\n"
     ]
    }
   ],
   "source": [
    "\"\"\"\n",
    "Given a list of numbers i.e [1,2,4-5,7,9,3,2] make another list\n",
    "that containst all the items in a sorted order to minimum to max\n",
    "i.e the result will be another list like [-5, 1, 2, 2, 3,4,7,9]\"\"\"\n",
    "\n",
    "L = [1,2,4,-5,7,9,3,2]\n",
    "for j in range(len(L)):\n",
    "    m = L[j]\n",
    "    idx = j\n",
    "    c = j\n",
    "    for i in range (j, len(L)):\n",
    "        if L[i] <m:\n",
    "            m = L[i]\n",
    "            idx = c\n",
    "        c+=1 \n",
    "    tmp = L[j]\n",
    "    L[j] = m\n",
    "    L[idx] = tmp\n",
    "\n",
    "print(L)"
   ]
  },
  {
   "cell_type": "code",
   "execution_count": 69,
   "id": "3c86da75",
   "metadata": {},
   "outputs": [],
   "source": [
    "def printMsg(msg):\n",
    "    \"\"\" The function prints the message supplied by the user\n",
    "    or prints that msg is not the form of string\"\"\"\n",
    "    if isinstance (msg, str):\n",
    "        print(msg)\n",
    "    else:\n",
    "        print(\"your input argument is not a string\")\n",
    "        print(\"here is what you have supplied\", type(msg))\n"
   ]
  },
  {
   "cell_type": "code",
   "execution_count": 73,
   "id": "06055e04",
   "metadata": {},
   "outputs": [
    {
     "name": "stdout",
     "output_type": "stream",
     "text": [
      "your input argument is not a string\n",
      "here is what you have supplied 23\n"
     ]
    }
   ],
   "source": [
    "printMsg(23)"
   ]
  },
  {
   "cell_type": "code",
   "execution_count": 78,
   "id": "34a0b3da",
   "metadata": {},
   "outputs": [
    {
     "name": "stdout",
     "output_type": "stream",
     "text": [
      "25\n"
     ]
    }
   ],
   "source": [
    "def mypow(a,b):\n",
    "    \"this function computes power just liek built in pow function\"\n",
    "    c = a**b\n",
    "    print(c)\n",
    "mypow(5, 2)   "
   ]
  },
  {
   "cell_type": "code",
   "execution_count": 84,
   "id": "3fd4518b",
   "metadata": {},
   "outputs": [
    {
     "name": "stdout",
     "output_type": "stream",
     "text": [
      "144\n"
     ]
    }
   ],
   "source": [
    "def checkArgs(a,b,c):\n",
    "    if isinstance (a, (int, float)) and  isinstance (b, (int, float)) and  isinstance (a, (int, float)):\n",
    "        print((a+b+c)** 2)\n",
    "    else:\n",
    "        print(\"Error: the input arguments arer not of the expected types\")\n",
    "        \n",
    "checkArgs(3,4,5) "
   ]
  },
  {
   "cell_type": "code",
   "execution_count": 89,
   "id": "5c4084e8",
   "metadata": {},
   "outputs": [
    {
     "data": {
      "text/plain": [
       "5"
      ]
     },
     "execution_count": 89,
     "metadata": {},
     "output_type": "execute_result"
    }
   ],
   "source": [
    "def myadd(a,b):\n",
    "    sumValue = a+b\n",
    "    return sumValue\n",
    "d = myadd(2,3)\n",
    "d"
   ]
  },
  {
   "cell_type": "code",
   "execution_count": 94,
   "id": "42fcdc5a",
   "metadata": {},
   "outputs": [
    {
     "name": "stdout",
     "output_type": "stream",
     "text": [
      "11\n"
     ]
    }
   ],
   "source": [
    "def myAddUnviersal(*args):\n",
    "    s = 0\n",
    "    for i in range(len(args)):\n",
    "        s += args[i]\n",
    "    return s\n",
    "print(myAddUnviersal(2, 4, 5))"
   ]
  },
  {
   "cell_type": "code",
   "execution_count": 96,
   "id": "99d44cba",
   "metadata": {},
   "outputs": [
    {
     "name": "stdout",
     "output_type": "stream",
     "text": [
      "Variable name is x a And value is:  3\n",
      "Variable name is x b And value is:  b\n",
      "Variable name is x c And value is:  ccc\n",
      "Variable name is x y And value is:  6.7\n"
     ]
    }
   ],
   "source": [
    "def printAllVariablesAndValues(**args):\n",
    "    for x in args:\n",
    "        print(\"Variable name is x\", x, \"And value is: \", args[x])\n",
    "printAllVariablesAndValues(a=3, b=\"b\", c=\"ccc\", y=6.7)      "
   ]
  },
  {
   "cell_type": "code",
   "execution_count": 103,
   "id": "109812f4",
   "metadata": {},
   "outputs": [
    {
     "name": "stdout",
     "output_type": "stream",
     "text": [
      "4\n"
     ]
    }
   ],
   "source": [
    "def gg(s=4):\n",
    "    print(s)\n",
    "gg()"
   ]
  },
  {
   "cell_type": "code",
   "execution_count": 104,
   "id": "926adfed",
   "metadata": {},
   "outputs": [
    {
     "name": "stdout",
     "output_type": "stream",
     "text": [
      "[-9, 2, 3]\n"
     ]
    }
   ],
   "source": [
    "L = [1,2,3]\n",
    "L2 = L\n",
    "L2[0] = -9\n",
    "print(L)"
   ]
  },
  {
   "cell_type": "markdown",
   "id": "4ece5da7",
   "metadata": {},
   "source": [
    "# Modules \n",
    "\n",
    "- onsider a module to be the same as a code library.\n",
    "\n",
    "- A file containing a set of functions you want to include in your application"
   ]
  },
  {
   "cell_type": "code",
   "execution_count": 108,
   "id": "d8dca27b",
   "metadata": {},
   "outputs": [],
   "source": [
    "def checkIfNotNumeric(**args):\n",
    "    for x in args:\n",
    "        if not(isinstance(x,(int,float))):\n",
    "            return False\n",
    "    return True\n",
    "def addAllNumeric(*args):\n",
    "    s = 0\n",
    "    for x in args:\n",
    "        s +=x\n",
    "    return s\n",
    "myName= \"Python Course\"\n",
    "    "
   ]
  },
  {
   "cell_type": "code",
   "execution_count": 109,
   "id": "ec22624d",
   "metadata": {},
   "outputs": [
    {
     "data": {
      "text/plain": [
       "' write a function that takes a list and makes another list that \\nthat contains all the items in a sorted oreder from min to max \\n'"
      ]
     },
     "execution_count": 109,
     "metadata": {},
     "output_type": "execute_result"
    }
   ],
   "source": [
    "\"\"\" write a function that takes a list and makes another list that \\nthat contains all the items in a sorted oreder from min to max \n",
    "\"\"\""
   ]
  },
  {
   "cell_type": "code",
   "execution_count": 114,
   "id": "0e513096",
   "metadata": {},
   "outputs": [],
   "source": [
    "def finMin(L):\n",
    "    m = L[0]\n",
    "    idx =0\n",
    "    i = 0 \n",
    "    for x in L:\n",
    "        if x < m:\n",
    "            m = x\n",
    "            idx = i\n",
    "        else:\n",
    "            pass\n",
    "        i+=1\n",
    "    return m,idx\n",
    "            "
   ]
  },
  {
   "cell_type": "code",
   "execution_count": 116,
   "id": "64c1fac8",
   "metadata": {},
   "outputs": [
    {
     "name": "stdout",
     "output_type": "stream",
     "text": [
      "0 3\n"
     ]
    }
   ],
   "source": [
    "a, b = finMin([2,3,4,0,9])\n",
    "print(a,b)"
   ]
  },
  {
   "cell_type": "code",
   "execution_count": 120,
   "id": "b35904d0",
   "metadata": {},
   "outputs": [],
   "source": [
    "def swapValues (L, idx1, idx2):\n",
    "    tmp = L[idx1]\n",
    "    L[idx1] = L[idx2]\n",
    "    L[idx2] = tmp\n",
    "    return L"
   ]
  },
  {
   "cell_type": "code",
   "execution_count": 122,
   "id": "69d145fb",
   "metadata": {},
   "outputs": [
    {
     "name": "stdout",
     "output_type": "stream",
     "text": [
      "[2, 7, 6, 3]\n"
     ]
    }
   ],
   "source": [
    "L = [2, 3, 6, 7]\n",
    "L2 = swapValues(L, 1, 3)\n",
    "print(L2)"
   ]
  },
  {
   "cell_type": "markdown",
   "id": "c55f49db",
   "metadata": {},
   "source": [
    "# Amintes ti ca esti la 8:00:13"
   ]
  },
  {
   "cell_type": "code",
   "execution_count": null,
   "id": "d666f6a5",
   "metadata": {},
   "outputs": [],
   "source": []
  },
  {
   "cell_type": "code",
   "execution_count": null,
   "id": "79c549de",
   "metadata": {},
   "outputs": [],
   "source": []
  },
  {
   "cell_type": "code",
   "execution_count": null,
   "id": "20154745",
   "metadata": {},
   "outputs": [],
   "source": []
  },
  {
   "cell_type": "code",
   "execution_count": null,
   "id": "bbbf64ba",
   "metadata": {},
   "outputs": [],
   "source": []
  },
  {
   "cell_type": "code",
   "execution_count": null,
   "id": "590b3342",
   "metadata": {},
   "outputs": [],
   "source": []
  }
 ],
 "metadata": {
  "kernelspec": {
   "display_name": "Python 3 (ipykernel)",
   "language": "python",
   "name": "python3"
  },
  "language_info": {
   "codemirror_mode": {
    "name": "ipython",
    "version": 3
   },
   "file_extension": ".py",
   "mimetype": "text/x-python",
   "name": "python",
   "nbconvert_exporter": "python",
   "pygments_lexer": "ipython3",
   "version": "3.9.7"
  }
 },
 "nbformat": 4,
 "nbformat_minor": 5
}
