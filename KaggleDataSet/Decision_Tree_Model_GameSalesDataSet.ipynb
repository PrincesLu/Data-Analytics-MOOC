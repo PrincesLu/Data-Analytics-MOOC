{
 "cells": [
  {
   "cell_type": "code",
   "execution_count": 57,
   "id": "c4a7b144",
   "metadata": {},
   "outputs": [],
   "source": [
    "import pandas as pd \n",
    "import warnings\n",
    "warnings.filterwarnings(\"ignore\")\n",
    "\n",
    "sales = pd.read_csv(r\"C:\\Users\\OneDrive\\Desktop\\vgsales.csv\")"
   ]
  },
  {
   "cell_type": "code",
   "execution_count": 58,
   "id": "fe47b986",
   "metadata": {},
   "outputs": [
    {
     "data": {
      "text/html": [
       "<div>\n",
       "<style scoped>\n",
       "    .dataframe tbody tr th:only-of-type {\n",
       "        vertical-align: middle;\n",
       "    }\n",
       "\n",
       "    .dataframe tbody tr th {\n",
       "        vertical-align: top;\n",
       "    }\n",
       "\n",
       "    .dataframe thead th {\n",
       "        text-align: right;\n",
       "    }\n",
       "</style>\n",
       "<table border=\"1\" class=\"dataframe\">\n",
       "  <thead>\n",
       "    <tr style=\"text-align: right;\">\n",
       "      <th></th>\n",
       "      <th>Rank</th>\n",
       "      <th>Name</th>\n",
       "      <th>Platform</th>\n",
       "      <th>Year</th>\n",
       "      <th>Genre</th>\n",
       "      <th>Publisher</th>\n",
       "      <th>NA_Sales</th>\n",
       "      <th>EU_Sales</th>\n",
       "      <th>JP_Sales</th>\n",
       "      <th>Other_Sales</th>\n",
       "      <th>Global_Sales</th>\n",
       "    </tr>\n",
       "  </thead>\n",
       "  <tbody>\n",
       "    <tr>\n",
       "      <th>0</th>\n",
       "      <td>1</td>\n",
       "      <td>Wii Sports</td>\n",
       "      <td>Wii</td>\n",
       "      <td>2006.0</td>\n",
       "      <td>Sports</td>\n",
       "      <td>Nintendo</td>\n",
       "      <td>41.49</td>\n",
       "      <td>29.02</td>\n",
       "      <td>3.77</td>\n",
       "      <td>8.46</td>\n",
       "      <td>82.74</td>\n",
       "    </tr>\n",
       "  </tbody>\n",
       "</table>\n",
       "</div>"
      ],
      "text/plain": [
       "   Rank        Name Platform    Year   Genre Publisher  NA_Sales  EU_Sales  \\\n",
       "0     1  Wii Sports      Wii  2006.0  Sports  Nintendo     41.49     29.02   \n",
       "\n",
       "   JP_Sales  Other_Sales  Global_Sales  \n",
       "0      3.77         8.46         82.74  "
      ]
     },
     "execution_count": 58,
     "metadata": {},
     "output_type": "execute_result"
    }
   ],
   "source": [
    "#head method\n",
    "sales.head(1)"
   ]
  },
  {
   "cell_type": "code",
   "execution_count": 59,
   "id": "3b8442eb",
   "metadata": {},
   "outputs": [
    {
     "data": {
      "text/plain": [
       "(16598, 11)"
      ]
     },
     "execution_count": 59,
     "metadata": {},
     "output_type": "execute_result"
    }
   ],
   "source": [
    "#shape attribute\n",
    "sales.shape # we have 15598 records and 11 columns, this is a two dimentional array;"
   ]
  },
  {
   "cell_type": "code",
   "execution_count": 60,
   "id": "e9b19eb4",
   "metadata": {},
   "outputs": [],
   "source": [
    "#describe method - basics statics \n",
    "#sales.describe() \n",
    "# count shows the nr of records \n",
    "# mean the average of all the columns \n",
    "# std "
   ]
  },
  {
   "cell_type": "code",
   "execution_count": 61,
   "id": "b4663ad2",
   "metadata": {},
   "outputs": [
    {
     "data": {
      "text/plain": [
       "array([[1, 'Wii Sports', 'Wii', ..., 3.77, 8.46, 82.74],\n",
       "       [2, 'Super Mario Bros.', 'NES', ..., 6.81, 0.77, 40.24],\n",
       "       [3, 'Mario Kart Wii', 'Wii', ..., 3.79, 3.31, 35.82],\n",
       "       ...,\n",
       "       [16598, 'SCORE International Baja 1000: The Official Game', 'PS2',\n",
       "        ..., 0.0, 0.0, 0.01],\n",
       "       [16599, 'Know How 2', 'DS', ..., 0.0, 0.0, 0.01],\n",
       "       [16600, 'Spirits & Spells', 'GBA', ..., 0.0, 0.0, 0.01]],\n",
       "      dtype=object)"
      ]
     },
     "execution_count": 61,
     "metadata": {},
     "output_type": "execute_result"
    }
   ],
   "source": [
    "#attribute \n",
    "sales.values"
   ]
  },
  {
   "cell_type": "code",
   "execution_count": 62,
   "id": "d70a2302",
   "metadata": {},
   "outputs": [
    {
     "data": {
      "text/html": [
       "<div>\n",
       "<style scoped>\n",
       "    .dataframe tbody tr th:only-of-type {\n",
       "        vertical-align: middle;\n",
       "    }\n",
       "\n",
       "    .dataframe tbody tr th {\n",
       "        vertical-align: top;\n",
       "    }\n",
       "\n",
       "    .dataframe thead th {\n",
       "        text-align: right;\n",
       "    }\n",
       "</style>\n",
       "<table border=\"1\" class=\"dataframe\">\n",
       "  <thead>\n",
       "    <tr style=\"text-align: right;\">\n",
       "      <th></th>\n",
       "      <th>age</th>\n",
       "      <th>gender</th>\n",
       "      <th>genre</th>\n",
       "    </tr>\n",
       "  </thead>\n",
       "  <tbody>\n",
       "    <tr>\n",
       "      <th>0</th>\n",
       "      <td>20</td>\n",
       "      <td>1</td>\n",
       "      <td>HipHop</td>\n",
       "    </tr>\n",
       "    <tr>\n",
       "      <th>1</th>\n",
       "      <td>23</td>\n",
       "      <td>1</td>\n",
       "      <td>HipHop</td>\n",
       "    </tr>\n",
       "  </tbody>\n",
       "</table>\n",
       "</div>"
      ],
      "text/plain": [
       "   age  gender   genre\n",
       "0   20       1  HipHop\n",
       "1   23       1  HipHop"
      ]
     },
     "execution_count": 62,
     "metadata": {},
     "output_type": "execute_result"
    }
   ],
   "source": [
    "import pandas as pd\n",
    "\n",
    "music  =pd.read_csv(r\"C:\\Users\\OneDrive\\Desktop\\f.csv\")\n",
    "music.head(2)"
   ]
  },
  {
   "cell_type": "code",
   "execution_count": 63,
   "id": "13d52a4e",
   "metadata": {},
   "outputs": [],
   "source": [
    "#cleaning, prepering data = no duplicates. no dull values\n",
    "# split de data into the input data (predictions -x ) set and data sets \n",
    "X= music.drop(columns=['genre'])"
   ]
  },
  {
   "cell_type": "code",
   "execution_count": 64,
   "id": "28c561e2",
   "metadata": {},
   "outputs": [
    {
     "data": {
      "text/plain": [
       "0        HipHop\n",
       "1        HipHop\n",
       "2        HipHop\n",
       "3          Jazz\n",
       "4          Jazz\n",
       "5          Jazz\n",
       "6     Classical\n",
       "7     Classical\n",
       "8     Classical\n",
       "9         Dance\n",
       "10        Dance\n",
       "11        Dance\n",
       "12     Acoustic\n",
       "13     Acoustic\n",
       "14     Acoustic\n",
       "15    Classical\n",
       "16    Classical\n",
       "17    Classical\n",
       "Name: genre, dtype: object"
      ]
     },
     "execution_count": 64,
     "metadata": {},
     "output_type": "execute_result"
    }
   ],
   "source": [
    "# create the output set\n",
    "y = music['genre']\n",
    "y"
   ]
  },
  {
   "cell_type": "markdown",
   "id": "b6e9758a",
   "metadata": {},
   "source": [
    "# Decision Tree Algorithm "
   ]
  },
  {
   "cell_type": "code",
   "execution_count": 87,
   "id": "3e5a1fcc",
   "metadata": {},
   "outputs": [
    {
     "data": {
      "text/plain": [
       "1.0"
      ]
     },
     "execution_count": 87,
     "metadata": {},
     "output_type": "execute_result"
    }
   ],
   "source": [
    "from sklearn.tree import DecisionTreeClassifier \n",
    "from sklearn.model_selection import train_test_split\n",
    "from sklearn.metrics import accuracy_score\n",
    "\n",
    "\n",
    "#cleaning, prepering data = no duplicates. no dull values\n",
    "# split de data into the input data (predictions -x ) set and data sets \n",
    "X= music.drop(columns=['genre'])\n",
    "# create the output set\n",
    "y = music['genre']\n",
    "\n",
    "# we need to split our dataset in 2 sets - training 70% and testig 30% testing\n",
    "# right now we are passing the entire dataset to train the model \n",
    "#the first 2 sets are the input(training test), the other 2 are testing\n",
    "X_train, X_test, y_train, y_test = train_test_split(X,y, test_size = 0.2)\n",
    "\n",
    "model = DecisionTreeClassifier()\n",
    "\n",
    "#when training our model, we won't pass the entire data set\n",
    "model.fit(X_train,y_train)\n",
    "predictions = model.predict(X_test) # the dataset that contains input values for testing\n",
    "\n",
    "\n",
    "# y_test which contains the expected values, and predictions the predicted values\n",
    "\n",
    "accuracy_score(y_test, predictions)"
   ]
  },
  {
   "cell_type": "markdown",
   "id": "1987422d",
   "metadata": {},
   "source": [
    "#  Persisting Models"
   ]
  },
  {
   "cell_type": "code",
   "execution_count": 110,
   "id": "ac3ac890",
   "metadata": {},
   "outputs": [
    {
     "data": {
      "text/plain": [
       "array(['HipHop'], dtype=object)"
      ]
     },
     "execution_count": 110,
     "metadata": {},
     "output_type": "execute_result"
    }
   ],
   "source": [
    "import pandas as pd\n",
    "from sklearn.tree import DecisionTreeClassifier \n",
    "from sklearn import tree\n",
    "\n",
    "import joblib # joblib object has methods for saving and loading models\n",
    "\n",
    "\n",
    "# #import our data set\n",
    "# music_1  = pd.read_csv(r\"C:\\Users\\iulia\\OneDrive\\Desktop\\f.csv\")\n",
    "# X = music_1.drop(columns=['genre'])\n",
    "# y = music_1['genre']\n",
    "\n",
    "\n",
    "# #create a model \n",
    "# model = DecisionTreeClassifier()\n",
    "\n",
    "# #train the model \n",
    "# model.fit(X,y)\n",
    "\n",
    "model = joblib.load(r\"C:\\Users\\OneDrive\\Desktop\\music-recommender.joblib\")\n",
    "\n",
    "predictions = model.predict([[21,1]])\n",
    "predictions"
   ]
  },
  {
   "cell_type": "markdown",
   "id": "afc0d5c3",
   "metadata": {},
   "source": [
    "# Visualizin a decision Tree\n"
   ]
  },
  {
   "cell_type": "code",
   "execution_count": 116,
   "id": "04ce4372",
   "metadata": {},
   "outputs": [],
   "source": [
    "tree.export_graphviz(model, out_file=r\"C:\\Users\\OneDrive\\Desktop\\music-recommender.dot\", \n",
    "                    feature_names = ['age', 'gender'], \n",
    "                    class_names = sorted(y.unique()), \n",
    "                    label = 'all', \n",
    "                    rounded = True,\n",
    "                    filled = True)"
   ]
  }
 ],
 "metadata": {
  "kernelspec": {
   "display_name": "Python 3 (ipykernel)",
   "language": "python",
   "name": "python3"
  },
  "language_info": {
   "codemirror_mode": {
    "name": "ipython",
    "version": 3
   },
   "file_extension": ".py",
   "mimetype": "text/x-python",
   "name": "python",
   "nbconvert_exporter": "python",
   "pygments_lexer": "ipython3",
   "version": "3.9.7"
  }
 },
 "nbformat": 4,
 "nbformat_minor": 5
}
